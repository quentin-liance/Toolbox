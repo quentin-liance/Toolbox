{
 "cells": [
  {
   "cell_type": "markdown",
   "metadata": {},
   "source": [
    "# Loading packages"
   ]
  },
  {
   "cell_type": "code",
   "execution_count": null,
   "metadata": {},
   "outputs": [],
   "source": [
    "import pandas as pd\n",
    "import numpy as np\n",
    "from pathlib import Path"
   ]
  },
  {
   "cell_type": "markdown",
   "metadata": {},
   "source": [
    "# Instantiate key constants & paths "
   ]
  },
  {
   "cell_type": "code",
   "execution_count": null,
   "metadata": {},
   "outputs": [],
   "source": [
    "MAIN_DIR = Path(\"../\")\n",
    "DATA_DIR = \"data\"\n",
    "RAW_DIR = \"raw\"\n",
    "STRUCTURED_DIR = \"structured\"\n",
    "SEPARATOR = \";\"\n",
    "ENCODER = \"utf-8\"\n",
    "RAW_SURNAME_FILE_NAME = \"dpt2021.csv\"\n",
    "STRUCTURED_SURNAME_FILE_NAME = \"SURNAME_2021.parquet\"\n",
    "\n",
    "RAW_SURNAME_FILE_PATH = MAIN_DIR / DATA_DIR / RAW_DIR / RAW_SURNAME_FILE_NAME\n",
    "STRUCTURED_SURNAME_FILE_PATH = MAIN_DIR / DATA_DIR / STRUCTURED_DIR / STRUCTURED_SURNAME_FILE_NAME"
   ]
  },
  {
   "cell_type": "markdown",
   "metadata": {},
   "source": [
    "# Loading raw file"
   ]
  },
  {
   "cell_type": "code",
   "execution_count": null,
   "metadata": {},
   "outputs": [],
   "source": [
    "original_french_surname = pd.read_csv(filepath_or_buffer=RAW_SURNAME_FILE_PATH, sep=SEPARATOR)\n",
    "original_french_surname.head()"
   ]
  },
  {
   "cell_type": "markdown",
   "metadata": {},
   "source": [
    "# Renaming columns "
   ]
  },
  {
   "cell_type": "code",
   "execution_count": null,
   "metadata": {},
   "outputs": [],
   "source": [
    "original_french_surname = original_french_surname.rename(\n",
    "    columns={\n",
    "        \"sexe\": \"GENDER\",\n",
    "        \"preusuel\": \"SURNAME\",\n",
    "        \"annais\": \"YEAR_OF_BIRTH\",\n",
    "        \"dpt\": \"DEPARTMENT\",\n",
    "        \"nombre\": \"NUMBER\",\n",
    "    }\n",
    ")\n",
    "\n",
    "original_french_surname.head()"
   ]
  },
  {
   "cell_type": "markdown",
   "metadata": {},
   "source": [
    "# Memory Usage"
   ]
  },
  {
   "cell_type": "code",
   "execution_count": null,
   "metadata": {},
   "outputs": [],
   "source": [
    "french_surname = original_french_surname.copy()"
   ]
  },
  {
   "cell_type": "code",
   "execution_count": null,
   "metadata": {},
   "outputs": [],
   "source": [
    "# The + symbol indicates that the true memory usage could be higher, because pandas does not count the memory used by values in columns with dtype=object\n",
    "french_surname.info()"
   ]
  },
  {
   "cell_type": "code",
   "execution_count": null,
   "metadata": {},
   "outputs": [],
   "source": [
    "# Passing memory_usage=\"deep\" will enable a more accurate memory usage report, accounting for the full usage of the contained objects.\n",
    "# This is optional as it can be expensive to do this deeper introspection.\n",
    "french_surname.info(memory_usage=\"deep\")"
   ]
  },
  {
   "cell_type": "markdown",
   "metadata": {},
   "source": [
    "# Improve Data Types"
   ]
  },
  {
   "cell_type": "code",
   "execution_count": null,
   "metadata": {},
   "outputs": [],
   "source": [
    "french_surname.head()"
   ]
  },
  {
   "cell_type": "markdown",
   "metadata": {},
   "source": [
    "## Gender"
   ]
  },
  {
   "cell_type": "code",
   "execution_count": null,
   "metadata": {},
   "outputs": [],
   "source": [
    "french_surname[\"GENDER\"].unique()"
   ]
  },
  {
   "cell_type": "code",
   "execution_count": null,
   "metadata": {},
   "outputs": [],
   "source": [
    "print(np.iinfo(np.int8))\n",
    "print(np.iinfo(np.int16))\n",
    "print(np.iinfo(np.int32))\n",
    "print(np.iinfo(np.int64))"
   ]
  },
  {
   "cell_type": "code",
   "execution_count": null,
   "metadata": {},
   "outputs": [],
   "source": [
    "french_surname[\"GENDER\"] = french_surname[\"GENDER\"].astype(pd.Int8Dtype())"
   ]
  },
  {
   "cell_type": "code",
   "execution_count": null,
   "metadata": {},
   "outputs": [],
   "source": [
    "# From 732MB to 707MB\n",
    "french_surname.info(memory_usage=\"deep\")"
   ]
  },
  {
   "cell_type": "markdown",
   "metadata": {},
   "source": [
    "## Number"
   ]
  },
  {
   "cell_type": "code",
   "execution_count": null,
   "metadata": {},
   "outputs": [],
   "source": [
    "french_surname[\"NUMBER\"].min(), french_surname[\"NUMBER\"].max() "
   ]
  },
  {
   "cell_type": "code",
   "execution_count": null,
   "metadata": {},
   "outputs": [],
   "source": [
    "# french_surname[\"NUMBER\"] = french_surname[\"NUMBER\"].astype(\"int8[pyarrow]\")\n",
    "french_surname[\"NUMBER\"] = french_surname[\"NUMBER\"].astype(pd.Int16Dtype())"
   ]
  },
  {
   "cell_type": "code",
   "execution_count": null,
   "metadata": {},
   "outputs": [],
   "source": [
    "# From 707MB to 685MB \n",
    "french_surname.info(memory_usage=\"deep\")"
   ]
  },
  {
   "cell_type": "markdown",
   "metadata": {},
   "source": [
    "## Surname"
   ]
  },
  {
   "cell_type": "markdown",
   "metadata": {},
   "source": [
    "- A common heuristic is to look at the percentage of unique values compared to the total number of rows. \n",
    "- For example, if less than 10% of the rows are unique, the column might be considered low cardinality. \n",
    "- Conversely, if most of the values are unique (e.g., more than 50%), the column is likely high cardinality. \n",
    "- These percentages are not hard rules but starting points for consideration."
   ]
  },
  {
   "cell_type": "code",
   "execution_count": null,
   "metadata": {},
   "outputs": [],
   "source": [
    "nunique_surname = french_surname[\"SURNAME\"].nunique()\n",
    "dataframe_length = len(french_surname)\n",
    "percentage_of_unique_values = nunique_surname / dataframe_length\n",
    "print(f\"Number of unique surname : {nunique_surname}\")\n",
    "print(f\"Dataframe length : {dataframe_length}\")\n",
    "print(\"Percentage of unique values : {:.3%}\".format(percentage_of_unique_values))"
   ]
  },
  {
   "cell_type": "code",
   "execution_count": null,
   "metadata": {},
   "outputs": [],
   "source": [
    "french_surname[\"SURNAME\"] = french_surname[\"SURNAME\"].astype(pd.CategoricalDtype())"
   ]
  },
  {
   "cell_type": "code",
   "execution_count": null,
   "metadata": {},
   "outputs": [],
   "source": [
    "# From 685MB to 462MB \n",
    "french_surname.info(memory_usage=\"deep\")"
   ]
  },
  {
   "cell_type": "markdown",
   "metadata": {},
   "source": [
    "## Department"
   ]
  },
  {
   "cell_type": "code",
   "execution_count": null,
   "metadata": {},
   "outputs": [],
   "source": [
    "nunique_dpt = french_surname[\"DEPARTMENT\"].nunique()\n",
    "dataframe_length = len(french_surname)\n",
    "percentage_of_unique_values = nunique_dpt / dataframe_length\n",
    "print(f\"Number of unique deparment : {nunique_dpt}\")\n",
    "print(f\"Dataframe length : {dataframe_length}\")\n",
    "print(\"Percentage of unique values : {:.3%}\".format(percentage_of_unique_values))"
   ]
  },
  {
   "cell_type": "code",
   "execution_count": null,
   "metadata": {},
   "outputs": [],
   "source": [
    "french_surname[\"DEPARTMENT\"] = french_surname[\"DEPARTMENT\"].astype(pd.CategoricalDtype())"
   ]
  },
  {
   "cell_type": "code",
   "execution_count": null,
   "metadata": {},
   "outputs": [],
   "source": [
    "# From 462MB to 252MB \n",
    "french_surname.info(memory_usage=\"deep\")"
   ]
  },
  {
   "cell_type": "markdown",
   "metadata": {},
   "source": [
    "## Year of birth"
   ]
  },
  {
   "cell_type": "code",
   "execution_count": null,
   "metadata": {},
   "outputs": [],
   "source": [
    "french_surname[\"YEAR_OF_BIRTH\"].min(), french_surname[\"YEAR_OF_BIRTH\"].max() "
   ]
  },
  {
   "cell_type": "code",
   "execution_count": null,
   "metadata": {},
   "outputs": [],
   "source": [
    "french_surname[\"YEAR_OF_BIRTH\"].unique()"
   ]
  },
  {
   "cell_type": "code",
   "execution_count": null,
   "metadata": {},
   "outputs": [],
   "source": [
    "# french_surname[\"YEAR_OF_BIRTH\"] = french_surname[\"YEAR_OF_BIRTH\"].astype(\"int16[pyarrow]\")\n",
    "# french_surname[\"YEAR_OF_BIRTH\"] = french_surname[\"YEAR_OF_BIRTH\"].replace({\"XXXX\": np.nan}).astype(\"int16[pyarrow]\")\n",
    "french_surname[\"YEAR_OF_BIRTH\"] = french_surname[\"YEAR_OF_BIRTH\"].astype(pd.StringDtype())"
   ]
  },
  {
   "cell_type": "code",
   "execution_count": null,
   "metadata": {},
   "outputs": [],
   "source": [
    "# From 252MB to 36MB\n",
    "french_surname.info(memory_usage=\"deep\")"
   ]
  },
  {
   "cell_type": "markdown",
   "metadata": {},
   "source": [
    "# 5. Loading data knowing data types\n",
    "\n",
    "Une fois que vous avez déterminé les types de vos colonnes, il est important de les intégrer dès le chargement de vos données, afin de contourner l'inférence faite par pandas."
   ]
  },
  {
   "cell_type": "code",
   "execution_count": null,
   "metadata": {},
   "outputs": [],
   "source": [
    "# Loading data with appropriate data types\n",
    "typed_french_surname = pd.read_csv(\n",
    "    filepath_or_buffer=RAW_SURNAME_FILE_PATH,\n",
    "    sep=SEPARATOR,\n",
    "    encoding=ENCODER,\n",
    "    dtype={\n",
    "        \"sexe\": pd.Int8Dtype(),\n",
    "        \"preusuel\": pd.CategoricalDtype(),\n",
    "        \"annais\": pd.StringDtype(),  # we will replace 'XXXX' by NaN and then type as pd.Int16Dtype()\n",
    "        \"dpt\": pd.CategoricalDtype(),\n",
    "        \"nombre\": pd.Int16Dtype(),\n",
    "    },\n",
    ")\n",
    "\n",
    "# Rename columns\n",
    "structured_french_surname = typed_french_surname.rename(\n",
    "    columns={\n",
    "        \"sexe\": \"GENDER\",\n",
    "        \"preusuel\": \"SURNAME\",\n",
    "        \"annais\": \"YEAR_OF_BIRTH\",\n",
    "        \"dpt\": \"DEPARTMENT\",\n",
    "        \"nombre\": \"NUMBER\",\n",
    "    }\n",
    ")\n",
    "\n",
    "structured_french_surname.info(memory_usage=\"deep\")"
   ]
  },
  {
   "cell_type": "markdown",
   "metadata": {},
   "source": [
    "Note that steps within cell above may be considered as the mininal `raw to structured` process (from raw untyped file to structured typed file)."
   ]
  },
  {
   "cell_type": "markdown",
   "metadata": {},
   "source": [
    "# Saving structured file to parquet"
   ]
  },
  {
   "cell_type": "code",
   "execution_count": null,
   "metadata": {},
   "outputs": [],
   "source": [
    "# To save data types\n",
    "structured_french_surname.to_parquet(path=STRUCTURED_SURNAME_FILE_PATH)"
   ]
  },
  {
   "cell_type": "markdown",
   "metadata": {},
   "source": [
    "# Loading structured file"
   ]
  },
  {
   "cell_type": "code",
   "execution_count": null,
   "metadata": {},
   "outputs": [],
   "source": [
    "structured_french_surname = pd.read_parquet(path=STRUCTURED_SURNAME_FILE_PATH)\n",
    "structured_french_surname.info(memory_usage=\"deep\")"
   ]
  },
  {
   "cell_type": "code",
   "execution_count": null,
   "metadata": {},
   "outputs": [],
   "source": [
    "structured_french_surname.head()"
   ]
  },
  {
   "cell_type": "markdown",
   "metadata": {},
   "source": [
    "# Mutation VS Chaining"
   ]
  },
  {
   "cell_type": "markdown",
   "metadata": {},
   "source": [
    "Task #1 : Rename `GENDER` as `GENDER_CODE`, Create `GENDER_LABEL` based on `GENDER_CODE` values, Type `GENDER_LABEL` as category \n",
    "\n",
    "Task #2 : I want to create a column named `NUNIQUE_NUMBER_BY_DEPARTMENT` counting the number of unique surname by department\n",
    "\n",
    "Task #3 : rename categories \"XXXX\" to \"Unknown\" in `YEAR_OF_BIRTH` and \"XX\" by \"Unkwown\" in `DEPARTMENT`"
   ]
  },
  {
   "cell_type": "markdown",
   "metadata": {},
   "source": [
    "## Mutation - \"Bad\" practice (pros and cons discussed later)"
   ]
  },
  {
   "cell_type": "code",
   "execution_count": null,
   "metadata": {},
   "outputs": [],
   "source": [
    "structured_french_surname_mutation = structured_french_surname.copy()\n",
    "\n",
    "# Task # 1\n",
    "structured_french_surname_mutation = structured_french_surname_mutation.rename(columns={\"GENDER\": \"GENDER_CODE\"}) \n",
    "structured_french_surname_mutation[\"GENDER_LABEL\"] = structured_french_surname_mutation[\"GENDER_CODE\"].map({1: \"MALE\", 2: \"FEMALE\"})\n",
    "structured_french_surname_mutation[\"GENDER_LABEL\"] = structured_french_surname_mutation[\"GENDER_LABEL\"].astype(\"category\")\n",
    "\n",
    "# Task # 2\n",
    "structured_french_surname_mutation[\"NUNIQUE_NUMBER_BY_DEPARTMENT\"] = structured_french_surname_mutation.groupby(by=\"DEPARTMENT\", observed=True)[\"NUMBER\"].transform(\"nunique\")\n",
    "structured_french_surname_mutation[\"NUNIQUE_NUMBER_BY_DEPARTMENT\"] = structured_french_surname_mutation[\"NUNIQUE_NUMBER_BY_DEPARTMENT\"].astype(pd.Int16Dtype())\n",
    "\n",
    "# Task # 3\n",
    "structured_french_surname_mutation[\"YEAR_OF_BIRTH\"] = structured_french_surname_mutation[\"YEAR_OF_BIRTH\"].replace({'XXXX': np.nan})\n",
    "structured_french_surname_mutation[\"YEAR_OF_BIRTH\"] = structured_french_surname_mutation[\"YEAR_OF_BIRTH\"].astype(pd.Int16Dtype())\n",
    "structured_french_surname_mutation[\"DEPARTMENT\"] = structured_french_surname_mutation[\"DEPARTMENT\"].cat.rename_categories({\"XX\": \"Unknown\"})\n",
    "\n",
    "# Task # 4\n",
    "mask_gender = structured_french_surname_mutation[\"GENDER_LABEL\"] == \"FEMALE\"\n",
    "mask_year_of_birth = structured_french_surname_mutation[\"YEAR_OF_BIRTH\"].between(1980, 1990)\n",
    "structured_french_surname_mutation = structured_french_surname_mutation[mask_gender & mask_year_of_birth]\n",
    "\n",
    "# Task # 5\n",
    "structured_french_surname_mutation = structured_french_surname_mutation.reset_index(drop=True)\n",
    "\n",
    "structured_french_surname_mutation.head()"
   ]
  },
  {
   "cell_type": "markdown",
   "metadata": {},
   "source": [
    "## Chaining - \"Best\" practice (pros and cons discussed later)"
   ]
  },
  {
   "cell_type": "markdown",
   "metadata": {},
   "source": [
    "- Plus complexe car nécessite de mieux planifier ses tâches, nécessite une réelle planification avant exécution\n",
    "\n",
    "Comparation avec une recette de cuisine (on ne raisonne non pas objet par objet mais par type de tâche)\n",
    "- Je vais pas prendre la farine, la préparer, la cuire, puis les oeufs, les battre et la cuire, etc.\n",
    "- C'est pas logique de faire ingrédient par ingrédient, il y a une logique d'ensemble à suivre\n",
    "- On raisonne par type de tâche (ex: la pesée des ingrédients) et non plus par colonne (ex: la farine)\n",
    "\n",
    "- La différence majeure est la façon de trier les informations - la 2ème méthode permet de + facilement retrouver les informations\n",
    "- Ex livre d'une bibliothèque : trouver le moyen le + logique de trier les opérations et de pouvoir les retrouver aisément (Nom ou genre = OK, date d'édition = POK)"
   ]
  },
  {
   "cell_type": "code",
   "execution_count": null,
   "metadata": {},
   "outputs": [],
   "source": [
    "structured_french_surname_chaining = (structured_french_surname\n",
    "    .rename(columns={\"GENDER\": \"GENDER_CODE\"})\n",
    "    .assign(\n",
    "        GENDER_LABEL=lambda df_: df_[\"GENDER_CODE\"].map({1: \"MALE\", 2: \"FEMALE\"}),\n",
    "        NUNIQUE_NUMBER_BY_DEPARTMENT=structured_french_surname.groupby(by=\"DEPARTMENT\", observed=True)[\"NUMBER\"].transform(\"nunique\"),\n",
    "        YEAR_OF_BIRTH=structured_french_surname[\"YEAR_OF_BIRTH\"].replace({'XXXX': np.nan}),\n",
    "        DEPARTMENT=structured_french_surname[\"DEPARTMENT\"].cat.rename_categories({\"XX\": \"Unknown\"}),\n",
    "    )\n",
    "    .astype({\n",
    "        \"GENDER_LABEL\": pd.CategoricalDtype(),\n",
    "        \"NUNIQUE_NUMBER_BY_DEPARTMENT\": pd.Int16Dtype(),\n",
    "        \"YEAR_OF_BIRTH\": pd.Int16Dtype()},\n",
    "    )\n",
    "    .query(\"1980 <= YEAR_OF_BIRTH <= 1990 and GENDER_LABEL == 'FEMALE'\")\n",
    "    .reset_index(drop=True)\n",
    ")\n",
    "\n",
    "structured_french_surname_chaining.head()"
   ]
  },
  {
   "cell_type": "code",
   "execution_count": null,
   "metadata": {},
   "outputs": [],
   "source": [
    "structured_french_surname_mutation.info(memory_usage=\"deep\")"
   ]
  },
  {
   "cell_type": "code",
   "execution_count": null,
   "metadata": {},
   "outputs": [],
   "source": [
    "structured_french_surname_chaining.info(memory_usage=\"deep\")"
   ]
  },
  {
   "cell_type": "markdown",
   "metadata": {},
   "source": [
    "- Chaining transforms a DataFrame according to a multi-step procedure all at once. \n",
    "- This guarantees the full and proper application of each pandas method, thus mitigating the risk of bugs. \n",
    "- The code is more readable with each line cleanly representing a distinct operation \n",
    "- (note: many Python code formatters will destroy this structure - wrap your pandas code blocks with `#fmt: off` and `#fmt: on` to prevent this). \n",
    "- Chaining will feel natural for R users familiar with the `magrittr %>%` operator."
   ]
  },
  {
   "cell_type": "markdown",
   "metadata": {},
   "source": [
    "# Debugging"
   ]
  },
  {
   "cell_type": "markdown",
   "metadata": {},
   "source": [
    "## Simplest way of debugging : Comment each line one by one"
   ]
  },
  {
   "cell_type": "code",
   "execution_count": null,
   "metadata": {},
   "outputs": [],
   "source": [
    "# First way to debbug : Comment each line one by one to visualise intermediate results\n",
    "(structured_french_surname\n",
    "    .rename(columns={\"GENDER\": \"GENDER_CODE\"})\n",
    "    .assign(\n",
    "        GENDER_LABEL=lambda df_: df_[\"GENDER_CODE\"].map({1: \"MALE\", 2: \"FEMALE\"}),\n",
    "        # NUNIQUE_NUMBER_BY_DEPARTMENT=structured_french_surname.groupby(by=\"DEPARTMENT\", observed=True)[\"NUMBER\"].transform(\"nunique\"),\n",
    "        # YEAR_OF_BIRTH=structured_french_surname[\"YEAR_OF_BIRTH\"].replace({'XXXX': np.nan}),\n",
    "        # DEPARTMENT=structured_french_surname[\"DEPARTMENT\"].cat.rename_categories({\"XX\": \"Unknown\"}),\n",
    "    )\n",
    "    # .astype({\n",
    "    #     \"GENDER_LABEL\": pd.CategoricalDtype(),\n",
    "    #     \"NUNIQUE_NUMBER_BY_DEPARTMENT\": pd.Int16Dtype(),\n",
    "    #     \"YEAR_OF_BIRTH\": pd.Int16Dtype(),\n",
    "    # })\n",
    "    # .query(\"1980 <= YEAR_OF_BIRTH <= 1990 and GENDER_LABEL == 'FEMALE'\")\n",
    "    # .reset_index(drop=True)\n",
    ")"
   ]
  },
  {
   "cell_type": "markdown",
   "metadata": {},
   "source": [
    "## Advanced way of debugging : create intermediate displays and/or dataframes (a notebook-friendly alternative to debug mode)"
   ]
  },
  {
   "cell_type": "code",
   "execution_count": null,
   "metadata": {},
   "outputs": [],
   "source": [
    "def display_five_first_rows(df_):\n",
    "    print(\"display five first rows :\")\n",
    "    display(df_.head())\n",
    "    return df_\n",
    "\n",
    "def display_five_first_female(df_):\n",
    "    print(\"display five first female :\")\n",
    "    display(df_.query(\"GENDER_LABEL == 'FEMALE'\").head())\n",
    "    return df_\n",
    "\n",
    "def get_dataframe(df_, var_name):\n",
    "    globals()[var_name] = df_\n",
    "    return df_"
   ]
  },
  {
   "cell_type": "code",
   "execution_count": null,
   "metadata": {},
   "outputs": [],
   "source": [
    "structured_french_surname_chaining = (structured_french_surname\n",
    "    .rename(columns={\"GENDER\": \"GENDER_CODE\"})\n",
    "    .assign(\n",
    "        GENDER_LABEL=lambda df_: df_[\"GENDER_CODE\"].map({1: \"MALE\", 2: \"FEMALE\"}),\n",
    "        NUNIQUE_NUMBER_BY_DEPARTMENT=structured_french_surname.groupby(by=\"DEPARTMENT\", observed=True)[\"NUMBER\"].transform(\"nunique\"),\n",
    "        YEAR_OF_BIRTH=structured_french_surname[\"YEAR_OF_BIRTH\"].replace({'XXXX': np.nan}),\n",
    "        DEPARTMENT=structured_french_surname[\"DEPARTMENT\"].cat.rename_categories({\"XX\": \"Unknown\"}),\n",
    "    )\n",
    "    .pipe(display_five_first_rows)\n",
    "    .pipe(get_dataframe, \"after_assign_before_astype\")\n",
    "    .astype({\n",
    "        \"GENDER_LABEL\": pd.CategoricalDtype(),\n",
    "        \"NUNIQUE_NUMBER_BY_DEPARTMENT\": pd.Int16Dtype(),\n",
    "        \"YEAR_OF_BIRTH\": pd.Int16Dtype(),\n",
    "    })\n",
    "    .pipe(display_five_first_female)\n",
    "    .pipe(get_dataframe, \"after_astype_before_query\")\n",
    "    .query(\"1980 <= YEAR_OF_BIRTH <= 1990 and GENDER_LABEL == 'FEMALE'\")\n",
    "    .reset_index(drop=True)\n",
    "    .pipe(get_dataframe, \"final_df\")\n",
    ")"
   ]
  },
  {
   "cell_type": "code",
   "execution_count": null,
   "metadata": {},
   "outputs": [],
   "source": [
    "after_assign_before_astype.info(memory_usage=\"deep\")"
   ]
  },
  {
   "cell_type": "code",
   "execution_count": null,
   "metadata": {},
   "outputs": [],
   "source": [
    "after_astype_before_query.info(memory_usage=\"deep\")"
   ]
  },
  {
   "cell_type": "code",
   "execution_count": null,
   "metadata": {},
   "outputs": [],
   "source": [
    "final_df.info(memory_usage=\"deep\")"
   ]
  },
  {
   "cell_type": "markdown",
   "metadata": {},
   "source": [
    "# Limit of chaining (personal opinion) & Style"
   ]
  },
  {
   "cell_type": "markdown",
   "metadata": {},
   "source": [
    "- The longer the chain is, the harder it becomes to quickly understand the process\n",
    "- Especially when whe reproduce a similar method\n",
    "    - In this case : 2 times the `.assign()` method and two times the `.groupby()` method"
   ]
  },
  {
   "cell_type": "code",
   "execution_count": null,
   "metadata": {},
   "outputs": [],
   "source": [
    "def thousand_separator(number: int) -> str:\n",
    "    return \"{:,}\".format(number).replace(\",\", \" \")"
   ]
  },
  {
   "cell_type": "code",
   "execution_count": null,
   "metadata": {},
   "outputs": [],
   "source": [
    "(structured_french_surname\n",
    "    .rename(columns={\"GENDER\": \"GENDER_CODE\"})\n",
    "    .assign(\n",
    "        GENDER_LABEL=lambda df_: df_[\"GENDER_CODE\"].map({1: \"MALE\", 2: \"FEMALE\"}),\n",
    "        NUNIQUE_NUMBER_BY_DEPARTMENT=structured_french_surname.groupby(by=\"DEPARTMENT\", observed=True)[\"NUMBER\"].transform(\"nunique\"),\n",
    "        YEAR_OF_BIRTH=structured_french_surname[\"YEAR_OF_BIRTH\"].replace({'XXXX': np.nan}),\n",
    "        DEPARTMENT=structured_french_surname[\"DEPARTMENT\"].cat.rename_categories({\"XX\": \"Unknown\"}),\n",
    "    )\n",
    "    .astype({\n",
    "        \"GENDER_LABEL\": pd.CategoricalDtype(),\n",
    "        \"NUNIQUE_NUMBER_BY_DEPARTMENT\": pd.Int16Dtype(),\n",
    "        \"YEAR_OF_BIRTH\": pd.Int16Dtype()},\n",
    "    )\n",
    "    .query(\"YEAR_OF_BIRTH in [2017, 2018, 2019, 2020, 2021] and SURNAME != '_PRENOMS_RARES'\")\n",
    "    .groupby(by=['GENDER_LABEL', \"SURNAME\"], observed=True, as_index=False)\n",
    "    .agg({\"NUMBER\": \"sum\"})\n",
    "    .sort_values(by=[\"GENDER_LABEL\", \"NUMBER\"], ascending=False)\n",
    "    .groupby(['GENDER_LABEL'], observed=True).head(5)\n",
    "    .assign(\n",
    "        TOTAL_NUMBER = lambda df_: df_.groupby(\"GENDER_LABEL\", observed=True)[\"NUMBER\"].transform(\"sum\"),\n",
    "        PROPORTION = lambda df_: df_[\"NUMBER\"] / df_[\"TOTAL_NUMBER\"],\n",
    "    )\n",
    "    .reset_index(drop=True)\n",
    "    .style.format({\n",
    "        \"NUMBER\": thousand_separator, \n",
    "        \"TOTAL_NUMBER\": thousand_separator, \n",
    "        \"PROPORTION\": \"{:.0%}\"\n",
    "    })\n",
    ")"
   ]
  },
  {
   "cell_type": "markdown",
   "metadata": {},
   "source": [
    "- That's why I recommend an intermediate step (a compromise between mutation and chaining)\n",
    "- For example :\n",
    "    - In the middle of the chain, or\n",
    "    - Where it really makes sense in the context of the project\n",
    "    - Personal rule of thumb : if I need to reuse a method, it's time to mutate"
   ]
  },
  {
   "cell_type": "code",
   "execution_count": null,
   "metadata": {},
   "outputs": [],
   "source": [
    "surname_by_gender = (structured_french_surname\n",
    "    .rename(columns={\"GENDER\": \"GENDER_CODE\"})\n",
    "    .assign(\n",
    "        GENDER_LABEL=lambda df_: df_[\"GENDER_CODE\"].map({1: \"MALE\", 2: \"FEMALE\"}),\n",
    "        NUNIQUE_NUMBER_BY_DEPARTMENT=structured_french_surname.groupby(by=\"DEPARTMENT\", observed=True)[\"NUMBER\"].transform(\"nunique\"),\n",
    "        YEAR_OF_BIRTH=structured_french_surname[\"YEAR_OF_BIRTH\"].replace({'XXXX': np.nan}),\n",
    "        DEPARTMENT=structured_french_surname[\"DEPARTMENT\"].cat.rename_categories({\"XX\": \"Unknown\"}),\n",
    "    )\n",
    "    .astype({\n",
    "        \"GENDER_LABEL\": pd.CategoricalDtype(),\n",
    "        \"NUNIQUE_NUMBER_BY_DEPARTMENT\": pd.Int16Dtype(),\n",
    "        \"YEAR_OF_BIRTH\": pd.Int16Dtype()},\n",
    "    )\n",
    "    .query(\"YEAR_OF_BIRTH in [2017, 2018, 2019, 2020, 2021] and SURNAME != '_PRENOMS_RARES'\")\n",
    "    .groupby(by=['GENDER_LABEL', \"SURNAME\"], observed=True, as_index=False)\n",
    "    .agg({\"NUMBER\": \"sum\"})\n",
    "    .sort_values(by=[\"GENDER_LABEL\", \"NUMBER\"], ascending=False)\n",
    ")\n",
    "\n",
    "surname_by_gender"
   ]
  },
  {
   "cell_type": "code",
   "execution_count": null,
   "metadata": {},
   "outputs": [],
   "source": [
    "(surname_by_gender\n",
    "    .groupby(['GENDER_LABEL'], observed=True).head(5)\n",
    "    .assign(\n",
    "        TOTAL_NUMBER=lambda df_: df_.groupby(\"GENDER_LABEL\", observed=True)[\"NUMBER\"].transform(\"sum\"),\n",
    "        PROPORTION=lambda df_: df_[\"NUMBER\"] / df_[\"TOTAL_NUMBER\"],\n",
    "    )\n",
    "    .reset_index(drop=True)\n",
    "    .style.format({\"NUMBER\": thousand_separator, \"TOTAL_NUMBER\": thousand_separator, \"PROPORTION\": \"{:.0%}\"})\n",
    ")"
   ]
  }
 ],
 "metadata": {
  "kernelspec": {
   "display_name": "polynom-rextech-effective-pandas-U6fDpOo_-py3.11",
   "language": "python",
   "name": "python3"
  },
  "language_info": {
   "codemirror_mode": {
    "name": "ipython",
    "version": 3
   },
   "file_extension": ".py",
   "mimetype": "text/x-python",
   "name": "python",
   "nbconvert_exporter": "python",
   "pygments_lexer": "ipython3",
   "version": "3.11.5"
  }
 },
 "nbformat": 4,
 "nbformat_minor": 2
}
